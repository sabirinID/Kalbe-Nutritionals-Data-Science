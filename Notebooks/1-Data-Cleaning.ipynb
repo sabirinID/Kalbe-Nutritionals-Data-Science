{
 "cells": [
  {
   "attachments": {},
   "cell_type": "markdown",
   "metadata": {},
   "source": [
    "# Data Cleaning"
   ]
  },
  {
   "attachments": {},
   "cell_type": "markdown",
   "metadata": {},
   "source": [
    "## Import Library"
   ]
  },
  {
   "cell_type": "code",
   "execution_count": null,
   "metadata": {},
   "outputs": [],
   "source": [
    "# Data manipulation\n",
    "import numpy as np\n",
    "import pandas as pd\n",
    "import datetime as dt\n",
    "\n",
    "# Data visualization\n",
    "import matplotlib as mpl\n",
    "import matplotlib.pyplot as plt\n",
    "import seaborn as sns\n",
    "\n",
    "# Ignore warning\n",
    "import warnings\n",
    "warnings.filterwarnings('ignore')"
   ]
  },
  {
   "cell_type": "code",
   "execution_count": null,
   "metadata": {},
   "outputs": [],
   "source": [
    "pd.set_option('display.max_columns', None)\n",
    "pd.set_option('display.max_rows', None)"
   ]
  },
  {
   "cell_type": "code",
   "execution_count": null,
   "metadata": {},
   "outputs": [],
   "source": [
    "print('NumPy', np.__version__)\n",
    "print('Pandas', pd.__version__)\n",
    "print('Matplotlib', mpl.__version__)\n",
    "print('Seaborn', sns.__version__)"
   ]
  },
  {
   "attachments": {},
   "cell_type": "markdown",
   "metadata": {},
   "source": [
    "## Read Dataset"
   ]
  },
  {
   "cell_type": "code",
   "execution_count": null,
   "metadata": {},
   "outputs": [],
   "source": [
    "customer = pd.read_csv('https://raw.githubusercontent.com/sabirinID/Kalbe-Nutritionals-Data-Science/main/Dataset/Case%20Study%20-%20Customer.csv', sep=';')\n",
    "product = pd.read_csv('https://raw.githubusercontent.com/sabirinID/Kalbe-Nutritionals-Data-Science/main/Dataset/Case%20Study%20-%20Product.csv', sep=';')\n",
    "store = pd.read_csv('https://raw.githubusercontent.com/sabirinID/Kalbe-Nutritionals-Data-Science/main/Dataset/Case%20Study%20-%20Store.csv', sep=';')\n",
    "transaction = pd.read_csv('https://raw.githubusercontent.com/sabirinID/Kalbe-Nutritionals-Data-Science/main/Dataset/Case%20Study%20-%20Transaction.csv', sep=';')"
   ]
  },
  {
   "cell_type": "code",
   "execution_count": null,
   "metadata": {},
   "outputs": [],
   "source": [
    "# Define function\n",
    "def missing_values(df):\n",
    "    total = df.isna().sum()\n",
    "    percent = round((df.isna().sum() / df.isna().count() * 100), 2)\n",
    "    na = pd.concat([total, percent], axis=1, keys=['Total', 'Percentage (%)'])\n",
    "    na = na[na['Percentage (%)'] > 0]\n",
    "    na.reset_index(inplace=True)\n",
    "    na.rename(columns={'index': 'Feature Name'}, inplace=True)\n",
    "    return na\n",
    "\n",
    "def unique_values(df):\n",
    "    values = {'Feature Name': [], 'Unique Classes': []}\n",
    "    for col in df.columns:\n",
    "        values['Feature Name'].append(col)\n",
    "        values['Unique Classes'].append(df[col].unique())\n",
    "    return pd.DataFrame(values)\n",
    "\n",
    "def categorical_distribution(cat):\n",
    "    count = cat.describe().loc['count']\n",
    "    top_freq = cat.describe().loc['freq']\n",
    "\n",
    "    percentage = (top_freq / count) * 100\n",
    "    percentage = percentage.astype(float)\n",
    "\n",
    "    result = pd.concat([cat.describe().loc['top'], percentage], axis=1)\n",
    "    result.columns = ['Top most frequent class', 'Percentage (%)']\n",
    "    \n",
    "    return result.round(2).reset_index().rename(columns={'index': 'Feature Name'})"
   ]
  },
  {
   "attachments": {},
   "cell_type": "markdown",
   "metadata": {},
   "source": [
    "### Customer"
   ]
  },
  {
   "cell_type": "code",
   "execution_count": null,
   "metadata": {},
   "outputs": [],
   "source": [
    "df_c = customer.copy()\n",
    "df_c.sample(5)"
   ]
  },
  {
   "cell_type": "code",
   "execution_count": null,
   "metadata": {},
   "outputs": [],
   "source": [
    "df_c.info()"
   ]
  },
  {
   "cell_type": "code",
   "execution_count": null,
   "metadata": {},
   "outputs": [],
   "source": [
    "# Check the features that have duplicate values\n",
    "print(df_c.duplicated().any())\n",
    "df_c.duplicated().sum()"
   ]
  },
  {
   "cell_type": "code",
   "execution_count": null,
   "metadata": {},
   "outputs": [],
   "source": [
    "# Check the features that have missing values\n",
    "print(df_c.isna().values.any())\n",
    "missing_values(df_c)"
   ]
  },
  {
   "cell_type": "code",
   "execution_count": null,
   "metadata": {},
   "outputs": [],
   "source": [
    "print(df_c.columns)\n",
    "unique_values(df_c)"
   ]
  },
  {
   "cell_type": "code",
   "execution_count": null,
   "metadata": {},
   "outputs": [],
   "source": [
    "# Define the feature\n",
    "cat = df_c.select_dtypes(include=['object'])\n",
    "num = df_c.select_dtypes(exclude=['object'])\n",
    "\n",
    "cat_cols = cat.columns\n",
    "num_cols = num.columns\n",
    "\n",
    "print(f'Jumlah fitur kategorikal: {cat.shape[1]}')\n",
    "print(f'Jumlah fitur numerikal  : {num.shape[1]}')"
   ]
  },
  {
   "cell_type": "code",
   "execution_count": null,
   "metadata": {},
   "outputs": [],
   "source": [
    "df_c.describe(include='all')"
   ]
  },
  {
   "cell_type": "code",
   "execution_count": null,
   "metadata": {},
   "outputs": [],
   "source": [
    "plt.figure(figsize=(16, 9))\n",
    "for i in range(0, len(num_cols)):\n",
    "    plt.subplot(1, 3, i+1)\n",
    "    sns.distplot(df_c[num_cols[i]], color='tab:blue')\n",
    "    sns.despine()\n",
    "    plt.title(f'Distribution of {num_cols[i]}', fontsize=16, weight='bold')\n",
    "    plt.tight_layout(pad=2)\n",
    "\n",
    "plt.show()"
   ]
  },
  {
   "cell_type": "code",
   "execution_count": null,
   "metadata": {},
   "outputs": [],
   "source": [
    "plt.figure(figsize=(16, 9))\n",
    "for i in range(0, len(num_cols)):\n",
    "    plt.subplot(1, 3, i+1)\n",
    "    sns.boxplot(df_c[num_cols[i]], color='tab:purple')\n",
    "    sns.despine()\n",
    "    plt.title(f'Distribution of {num_cols[i]}', fontsize=16, weight='bold')\n",
    "    plt.tight_layout(pad=2)\n",
    "\n",
    "plt.show()"
   ]
  },
  {
   "cell_type": "code",
   "execution_count": null,
   "metadata": {},
   "outputs": [],
   "source": [
    "plt.figure(figsize=(16, 9))\n",
    "for i in range(0, len(num_cols)):\n",
    "    plt.subplot(1, 3, i+1)\n",
    "    sns.violinplot(df_c[num_cols[i]], color='tab:pink')\n",
    "    sns.despine()\n",
    "    plt.title(f'Distribution of {num_cols[i]}', fontsize=16, weight='bold')\n",
    "    plt.tight_layout(pad=2)\n",
    "\n",
    "plt.show()"
   ]
  },
  {
   "cell_type": "code",
   "execution_count": null,
   "metadata": {},
   "outputs": [],
   "source": [
    "categorical_distribution(cat)"
   ]
  },
  {
   "cell_type": "code",
   "execution_count": null,
   "metadata": {},
   "outputs": [],
   "source": [
    "plt.figure(figsize=(16, 9))\n",
    "for i in range(0, len(cat_cols)):\n",
    "    plt.subplot(1, 2, i+1)\n",
    "    sns.countplot(x=df_c[cat_cols[i]], palette='tab10')\n",
    "    sns.despine()\n",
    "    plt.title(f'Count of {cat_cols[i]}', fontsize=16, weight='bold')\n",
    "    plt.tight_layout(pad=2)\n",
    "\n",
    "plt.show()"
   ]
  },
  {
   "attachments": {},
   "cell_type": "markdown",
   "metadata": {},
   "source": [
    "🔽 `Age`"
   ]
  },
  {
   "cell_type": "code",
   "execution_count": null,
   "metadata": {},
   "outputs": [],
   "source": [
    "df_c['Age'].describe()"
   ]
  },
  {
   "cell_type": "code",
   "execution_count": null,
   "metadata": {},
   "outputs": [],
   "source": [
    "df_c[df_c['Age'] < 18].sort_values(by='Age').reset_index(drop=True)"
   ]
  },
  {
   "cell_type": "code",
   "execution_count": null,
   "metadata": {},
   "outputs": [],
   "source": [
    "df_c.loc[df_c['Age'] < 18, 'Age'] = df_c['Age'].mode()[0]\n",
    "df_c['Age'].min()"
   ]
  },
  {
   "attachments": {},
   "cell_type": "markdown",
   "metadata": {},
   "source": [
    "🔽 `Gender`"
   ]
  },
  {
   "cell_type": "code",
   "execution_count": null,
   "metadata": {},
   "outputs": [],
   "source": [
    "df_c['Gender'].value_counts(normalize=True).round(2)"
   ]
  },
  {
   "attachments": {},
   "cell_type": "markdown",
   "metadata": {},
   "source": [
    "🔽 `Marital Status`"
   ]
  },
  {
   "cell_type": "code",
   "execution_count": null,
   "metadata": {},
   "outputs": [],
   "source": [
    "df_c['Marital Status'].value_counts(normalize=True).round(2)"
   ]
  },
  {
   "cell_type": "code",
   "execution_count": null,
   "metadata": {},
   "outputs": [],
   "source": [
    "df_c['Marital Status'].unique()"
   ]
  },
  {
   "cell_type": "code",
   "execution_count": null,
   "metadata": {},
   "outputs": [],
   "source": [
    "# Fill missing values with mode\n",
    "df_c['Marital Status'].fillna(df_c['Marital Status'].mode()[0], inplace=True)\n",
    "# df_c['Marital Status'].fillna('Married', inplace=True)\n",
    "\n",
    "# Encode\n",
    "df_c['Marital Status'] = df_c['Marital Status'].replace({'Single'  : 0,\n",
    "                                                         'Married' : 1})\n",
    "df_c['Marital Status'].unique()"
   ]
  },
  {
   "attachments": {},
   "cell_type": "markdown",
   "metadata": {},
   "source": [
    "🔽 `Income`"
   ]
  },
  {
   "cell_type": "code",
   "execution_count": null,
   "metadata": {},
   "outputs": [],
   "source": [
    "df_c['Income'].value_counts(normalize=True).round(3).head()"
   ]
  },
  {
   "cell_type": "code",
   "execution_count": null,
   "metadata": {},
   "outputs": [],
   "source": [
    "df_c[df_c['Income'] == '0'].sort_values(by='Age').reset_index(drop=True)"
   ]
  },
  {
   "cell_type": "code",
   "execution_count": null,
   "metadata": {},
   "outputs": [],
   "source": [
    "df_c[df_c['Income'] == '0']['Age'].sort_values().unique()"
   ]
  },
  {
   "cell_type": "code",
   "execution_count": null,
   "metadata": {},
   "outputs": [],
   "source": [
    "# Fix dtype: object to integer\n",
    "df_c['Income'] = df_c['Income'].str.replace(',', '.').astype('float64')"
   ]
  },
  {
   "cell_type": "code",
   "execution_count": null,
   "metadata": {},
   "outputs": [],
   "source": [
    "df_c.info()"
   ]
  },
  {
   "attachments": {},
   "cell_type": "markdown",
   "metadata": {},
   "source": [
    "### Product"
   ]
  },
  {
   "cell_type": "code",
   "execution_count": null,
   "metadata": {},
   "outputs": [],
   "source": [
    "df_p = product.copy()\n",
    "df_p.sample(5)"
   ]
  },
  {
   "cell_type": "code",
   "execution_count": null,
   "metadata": {},
   "outputs": [],
   "source": [
    "df_p.info()"
   ]
  },
  {
   "cell_type": "code",
   "execution_count": null,
   "metadata": {},
   "outputs": [],
   "source": [
    "missing_values(df_p)"
   ]
  },
  {
   "cell_type": "code",
   "execution_count": null,
   "metadata": {},
   "outputs": [],
   "source": [
    "unique_values(df_p)"
   ]
  },
  {
   "attachments": {},
   "cell_type": "markdown",
   "metadata": {},
   "source": [
    "### Store"
   ]
  },
  {
   "cell_type": "code",
   "execution_count": null,
   "metadata": {},
   "outputs": [],
   "source": [
    "df_s = store.copy()\n",
    "df_s.sample(5)"
   ]
  },
  {
   "cell_type": "code",
   "execution_count": null,
   "metadata": {},
   "outputs": [],
   "source": [
    "df_s.info()"
   ]
  },
  {
   "cell_type": "code",
   "execution_count": null,
   "metadata": {},
   "outputs": [],
   "source": [
    "missing_values(df_s)"
   ]
  },
  {
   "cell_type": "code",
   "execution_count": null,
   "metadata": {},
   "outputs": [],
   "source": [
    "unique_values(df_s)"
   ]
  },
  {
   "attachments": {},
   "cell_type": "markdown",
   "metadata": {},
   "source": [
    "### Transaction"
   ]
  },
  {
   "cell_type": "code",
   "execution_count": null,
   "metadata": {},
   "outputs": [],
   "source": [
    "df_t = transaction.copy()\n",
    "df_t.sample(5)"
   ]
  },
  {
   "cell_type": "code",
   "execution_count": null,
   "metadata": {},
   "outputs": [],
   "source": [
    "df_t.info()"
   ]
  },
  {
   "cell_type": "code",
   "execution_count": null,
   "metadata": {},
   "outputs": [],
   "source": [
    "missing_values(df_t)"
   ]
  },
  {
   "cell_type": "code",
   "execution_count": null,
   "metadata": {},
   "outputs": [],
   "source": [
    "unique_values(df_t)"
   ]
  },
  {
   "attachments": {},
   "cell_type": "markdown",
   "metadata": {},
   "source": [
    "### Merge the Dataset"
   ]
  },
  {
   "cell_type": "code",
   "execution_count": null,
   "metadata": {},
   "outputs": [],
   "source": []
  }
 ],
 "metadata": {
  "kernelspec": {
   "display_name": "Python 3 (ipykernel)",
   "language": "python",
   "name": "python3"
  },
  "language_info": {
   "codemirror_mode": {
    "name": "ipython",
    "version": 3
   },
   "file_extension": ".py",
   "mimetype": "text/x-python",
   "name": "python",
   "nbconvert_exporter": "python",
   "pygments_lexer": "ipython3",
   "version": "3.10.9"
  },
  "orig_nbformat": 4
 },
 "nbformat": 4,
 "nbformat_minor": 2
}
